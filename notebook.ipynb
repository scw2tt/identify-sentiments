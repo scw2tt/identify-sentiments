{
 "metadata": {
  "language_info": {
   "codemirror_mode": {
    "name": "ipython",
    "version": 3
   },
   "file_extension": ".py",
   "mimetype": "text/x-python",
   "name": "python",
   "nbconvert_exporter": "python",
   "pygments_lexer": "ipython3",
   "version": "3.7.4-final"
  },
  "orig_nbformat": 2,
  "kernelspec": {
   "name": "Python 3.7.4 64-bit",
   "display_name": "Python 3.7.4 64-bit",
   "metadata": {
    "interpreter": {
     "hash": "713e061f11c4ef1b7035f4bf8337b83b21eaf292e9529a187230b2db8ffe26b1"
    }
   }
  }
 },
 "nbformat": 4,
 "nbformat_minor": 2,
 "cells": [
  {
   "source": [
    "# Import the training data"
   ],
   "cell_type": "markdown",
   "metadata": {}
  },
  {
   "cell_type": "code",
   "execution_count": 10,
   "metadata": {},
   "outputs": [
    {
     "output_type": "execute_result",
     "data": {
      "text/plain": [
       "    id  label                                              tweet\n",
       "0    1      0  #fingerprint #Pregnancy Test https://goo.gl/h1...\n",
       "1    2      0  Finally a transparant silicon case ^^ Thanks t...\n",
       "2    3      0  We love this! Would you go? #talk #makememorie...\n",
       "3    4      0  I'm wired I know I'm George I was made that wa...\n",
       "4    5      1  What amazing service! Apple won't even talk to...\n",
       "5    6      1  iPhone software update fucked up my phone big ...\n",
       "6    7      0  Happy for us .. #instapic #instadaily #us #son...\n",
       "7    8      0  New Type C charger cable #UK http://www.ebay.c...\n",
       "8    9      0  Bout to go shopping again listening to music #...\n",
       "9   10      0  Photo: #fun #selfie #pool #water #sony #camera...\n",
       "10  11      1  hey #apple when you make a new ipod dont make ...\n",
       "11  12      1  Ha! Not heavy machinery but it does what I nee...\n",
       "12  13      1  Contemplating giving in to the iPhone bandwago...\n",
       "13  14      0  I just made another crazy purchase lol my theo...\n",
       "14  15      1  @shaqlockholmes @sam_louise1991 the battery is...\n",
       "15  16      0  From #DeepEllum towards #downtown #Dallas. #Bi...\n",
       "16  17      0  Like and Share if you want this 3D Phone Case ...\n",
       "17  18      0  Go crazy !! #iphonesia, #iphone, #instagood, #...\n",
       "18  19      1  The reason I don't have one. #iphone #suck #ap...\n",
       "19  20      1  How is the apple store gunna be out of 5C scre..."
      ],
      "text/html": "<div>\n<style scoped>\n    .dataframe tbody tr th:only-of-type {\n        vertical-align: middle;\n    }\n\n    .dataframe tbody tr th {\n        vertical-align: top;\n    }\n\n    .dataframe thead th {\n        text-align: right;\n    }\n</style>\n<table border=\"1\" class=\"dataframe\">\n  <thead>\n    <tr style=\"text-align: right;\">\n      <th></th>\n      <th>id</th>\n      <th>label</th>\n      <th>tweet</th>\n    </tr>\n  </thead>\n  <tbody>\n    <tr>\n      <th>0</th>\n      <td>1</td>\n      <td>0</td>\n      <td>#fingerprint #Pregnancy Test https://goo.gl/h1...</td>\n    </tr>\n    <tr>\n      <th>1</th>\n      <td>2</td>\n      <td>0</td>\n      <td>Finally a transparant silicon case ^^ Thanks t...</td>\n    </tr>\n    <tr>\n      <th>2</th>\n      <td>3</td>\n      <td>0</td>\n      <td>We love this! Would you go? #talk #makememorie...</td>\n    </tr>\n    <tr>\n      <th>3</th>\n      <td>4</td>\n      <td>0</td>\n      <td>I'm wired I know I'm George I was made that wa...</td>\n    </tr>\n    <tr>\n      <th>4</th>\n      <td>5</td>\n      <td>1</td>\n      <td>What amazing service! Apple won't even talk to...</td>\n    </tr>\n    <tr>\n      <th>5</th>\n      <td>6</td>\n      <td>1</td>\n      <td>iPhone software update fucked up my phone big ...</td>\n    </tr>\n    <tr>\n      <th>6</th>\n      <td>7</td>\n      <td>0</td>\n      <td>Happy for us .. #instapic #instadaily #us #son...</td>\n    </tr>\n    <tr>\n      <th>7</th>\n      <td>8</td>\n      <td>0</td>\n      <td>New Type C charger cable #UK http://www.ebay.c...</td>\n    </tr>\n    <tr>\n      <th>8</th>\n      <td>9</td>\n      <td>0</td>\n      <td>Bout to go shopping again listening to music #...</td>\n    </tr>\n    <tr>\n      <th>9</th>\n      <td>10</td>\n      <td>0</td>\n      <td>Photo: #fun #selfie #pool #water #sony #camera...</td>\n    </tr>\n    <tr>\n      <th>10</th>\n      <td>11</td>\n      <td>1</td>\n      <td>hey #apple when you make a new ipod dont make ...</td>\n    </tr>\n    <tr>\n      <th>11</th>\n      <td>12</td>\n      <td>1</td>\n      <td>Ha! Not heavy machinery but it does what I nee...</td>\n    </tr>\n    <tr>\n      <th>12</th>\n      <td>13</td>\n      <td>1</td>\n      <td>Contemplating giving in to the iPhone bandwago...</td>\n    </tr>\n    <tr>\n      <th>13</th>\n      <td>14</td>\n      <td>0</td>\n      <td>I just made another crazy purchase lol my theo...</td>\n    </tr>\n    <tr>\n      <th>14</th>\n      <td>15</td>\n      <td>1</td>\n      <td>@shaqlockholmes @sam_louise1991 the battery is...</td>\n    </tr>\n    <tr>\n      <th>15</th>\n      <td>16</td>\n      <td>0</td>\n      <td>From #DeepEllum towards #downtown #Dallas. #Bi...</td>\n    </tr>\n    <tr>\n      <th>16</th>\n      <td>17</td>\n      <td>0</td>\n      <td>Like and Share if you want this 3D Phone Case ...</td>\n    </tr>\n    <tr>\n      <th>17</th>\n      <td>18</td>\n      <td>0</td>\n      <td>Go crazy !! #iphonesia, #iphone, #instagood, #...</td>\n    </tr>\n    <tr>\n      <th>18</th>\n      <td>19</td>\n      <td>1</td>\n      <td>The reason I don't have one. #iphone #suck #ap...</td>\n    </tr>\n    <tr>\n      <th>19</th>\n      <td>20</td>\n      <td>1</td>\n      <td>How is the apple store gunna be out of 5C scre...</td>\n    </tr>\n  </tbody>\n</table>\n</div>"
     },
     "metadata": {},
     "execution_count": 10
    }
   ],
   "source": [
    "import pandas as pd\n",
    "import numpy as np\n",
    "\n",
    "train_df = pd.read_csv(\"./data/train.csv\")\n",
    "train_df.head(20)"
   ]
  }
 ]
}